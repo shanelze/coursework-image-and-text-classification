{
 "cells": [
  {
   "cell_type": "markdown",
   "metadata": {},
   "source": [
    "# Important Notes\n",
    "\n",
    "### Please refer to Section 3: \"Print out evaluation results without saving to excel file\""
   ]
  },
  {
   "cell_type": "markdown",
   "metadata": {},
   "source": [
    "# 1. Import Libraries"
   ]
  },
  {
   "cell_type": "code",
   "execution_count": 27,
   "metadata": {},
   "outputs": [],
   "source": [
    "import pandas as pd\n",
    "import seaborn as sns\n",
    "import numpy as np\n",
    "import matplotlib.pyplot as plt\n",
    "import sentence_transformers\n",
    "\n",
    "\n",
    "from sklearn.feature_extraction.text import TfidfVectorizer\n",
    "\n",
    "from sklearn.feature_extraction.text import CountVectorizer\n",
    "\n",
    "from sklearn import linear_model,ensemble,svm, naive_bayes\n",
    "\n",
    "from sklearn.naive_bayes import MultinomialNB\n",
    "\n",
    "from sklearn.ensemble import GradientBoostingClassifier\n",
    "\n",
    "from sklearn.model_selection import train_test_split\n",
    "\n",
    "from sentence_transformers import SentenceTransformer \n",
    "\n",
    "from sklearn.metrics import accuracy_score, confusion_matrix, classification_report, precision_score, recall_score, f1_score, roc_curve, roc_auc_score\n",
    "\n",
    "from sklearn.neighbors import KNeighborsClassifier\n",
    "\n"
   ]
  },
  {
   "cell_type": "code",
   "execution_count": 9,
   "metadata": {},
   "outputs": [],
   "source": [
    "df = pd.read_csv(\"/Users/shanelim/Desktop/Sem 3.1/BC3409/Final Assignment - Individual/Part 1/spam (Text).csv\")"
   ]
  },
  {
   "cell_type": "code",
   "execution_count": null,
   "metadata": {},
   "outputs": [],
   "source": [
    "df"
   ]
  },
  {
   "cell_type": "markdown",
   "metadata": {},
   "source": [
    "# Exploratory Data Analysis\n"
   ]
  },
  {
   "cell_type": "code",
   "execution_count": 37,
   "metadata": {},
   "outputs": [
    {
     "data": {
      "text/html": [
       "<div>\n",
       "<style scoped>\n",
       "    .dataframe tbody tr th:only-of-type {\n",
       "        vertical-align: middle;\n",
       "    }\n",
       "\n",
       "    .dataframe tbody tr th {\n",
       "        vertical-align: top;\n",
       "    }\n",
       "\n",
       "    .dataframe thead th {\n",
       "        text-align: right;\n",
       "    }\n",
       "</style>\n",
       "<table border=\"1\" class=\"dataframe\">\n",
       "  <thead>\n",
       "    <tr style=\"text-align: right;\">\n",
       "      <th></th>\n",
       "      <th>Category</th>\n",
       "      <th>Message</th>\n",
       "    </tr>\n",
       "  </thead>\n",
       "  <tbody>\n",
       "    <tr>\n",
       "      <th>0</th>\n",
       "      <td>ham</td>\n",
       "      <td>Go until jurong point, crazy.. Available only ...</td>\n",
       "    </tr>\n",
       "    <tr>\n",
       "      <th>1</th>\n",
       "      <td>ham</td>\n",
       "      <td>Ok lar... Joking wif u oni...</td>\n",
       "    </tr>\n",
       "    <tr>\n",
       "      <th>2</th>\n",
       "      <td>spam</td>\n",
       "      <td>Free entry in 2 a wkly comp to win FA Cup fina...</td>\n",
       "    </tr>\n",
       "    <tr>\n",
       "      <th>3</th>\n",
       "      <td>ham</td>\n",
       "      <td>U dun say so early hor... U c already then say...</td>\n",
       "    </tr>\n",
       "    <tr>\n",
       "      <th>4</th>\n",
       "      <td>ham</td>\n",
       "      <td>Nah I don't think he goes to usf, he lives aro...</td>\n",
       "    </tr>\n",
       "  </tbody>\n",
       "</table>\n",
       "</div>"
      ],
      "text/plain": [
       "  Category                                            Message\n",
       "0      ham  Go until jurong point, crazy.. Available only ...\n",
       "1      ham                      Ok lar... Joking wif u oni...\n",
       "2     spam  Free entry in 2 a wkly comp to win FA Cup fina...\n",
       "3      ham  U dun say so early hor... U c already then say...\n",
       "4      ham  Nah I don't think he goes to usf, he lives aro..."
      ]
     },
     "execution_count": 37,
     "metadata": {},
     "output_type": "execute_result"
    }
   ],
   "source": [
    "df.head()"
   ]
  },
  {
   "cell_type": "code",
   "execution_count": null,
   "metadata": {},
   "outputs": [],
   "source": [
    "df.isnull().values.any()"
   ]
  },
  {
   "cell_type": "code",
   "execution_count": 48,
   "metadata": {},
   "outputs": [
    {
     "name": "stdout",
     "output_type": "stream",
     "text": [
      "Number of ham messages: 4825\n",
      "Number of spam messages: 747\n",
      "Percentage of ham messages: 86.59368269921033\n",
      "Percentage of spam messages: 13.406317300789663\n"
     ]
    }
   ],
   "source": [
    "count_ham = df['Category'].value_counts()['ham']\n",
    "count_spam = df['Category'].value_counts()['spam']\n",
    "\n",
    "print(\"Number of ham messages:\", count_ham)\n",
    "print(\"Number of spam messages:\", count_spam)\n",
    "\n",
    "print(\"Percentage of ham messages:\", count_ham/(count_ham + count_spam) * 100 )\n",
    "print(\"Percentage of spam messages:\", count_spam/(count_ham + count_spam) *100 )"
   ]
  },
  {
   "cell_type": "markdown",
   "metadata": {},
   "source": [
    "# 2. Feature Extraction and Implement Model"
   ]
  },
  {
   "cell_type": "code",
   "execution_count": 52,
   "metadata": {},
   "outputs": [],
   "source": [
    "X = df[\"Message\"]\n",
    "y = df[\"Category\"]"
   ]
  },
  {
   "cell_type": "markdown",
   "metadata": {},
   "source": [
    "### a. CountVectorizer\n",
    "CountVectorizer converts text into a matrix of token counts (word frequencies)."
   ]
  },
  {
   "cell_type": "code",
   "execution_count": 53,
   "metadata": {},
   "outputs": [],
   "source": [
    "# CountVectorizer transforms (headlines) and transforms it into a matrix of token count (word freuqency), storing it in X_vec\n",
    "\n",
    "from sklearn.feature_extraction.text import CountVectorizer\n",
    "X_vec = CountVectorizer().fit_transform(X)\n",
    "from sklearn.model_selection import train_test_split\n",
    "X_train, X_test, y_train, y_test = train_test_split(X_vec, y)\n",
    "\n",
    "#The matrix that results from this operation (X_vec) has a shape\n",
    "#(n_samples, n_features), where:\n",
    "\n",
    "#n_samples: Number of documents/headlines.\n",
    "#n_features: Number of unique words across the entire dataset.\n",
    "\n",
    "#(np.int32(1), np.int32(4338)) [from the output of X_vec]\n"
   ]
  },
  {
   "cell_type": "code",
   "execution_count": 58,
   "metadata": {},
   "outputs": [
    {
     "name": "stdout",
     "output_type": "stream",
     "text": [
      "0.9798994974874372\n",
      "[[1207    2]\n",
      " [  26  158]]\n"
     ]
    }
   ],
   "source": [
    "#Logistis Regressin\n",
    "\n",
    "model = linear_model.LogisticRegression()\n",
    "model.fit(X_train,y_train)\n",
    "y_pred = model.predict(X_test)\n",
    "print(accuracy_score(y_test,y_pred))\n",
    "print(confusion_matrix(y_test,y_pred))"
   ]
  },
  {
   "cell_type": "code",
   "execution_count": 55,
   "metadata": {},
   "outputs": [
    {
     "name": "stdout",
     "output_type": "stream",
     "text": [
      "0.9763101220387652\n",
      "[[1209    0]\n",
      " [  33  151]]\n"
     ]
    }
   ],
   "source": [
    "#Random Forest\n",
    "\n",
    "model_RF = ensemble.RandomForestClassifier()\n",
    "model_RF.fit(X_train,y_train)\n",
    "y_pred = model_RF.predict(X_test)\n",
    "print(accuracy_score(y_test,y_pred))\n",
    "\n",
    "cm_rf = confusion_matrix(y_test, y_pred)\n",
    "print(confusion_matrix(y_test,y_pred))"
   ]
  },
  {
   "cell_type": "code",
   "execution_count": 56,
   "metadata": {},
   "outputs": [
    {
     "name": "stdout",
     "output_type": "stream",
     "text": [
      "0.9755922469490309\n",
      "[[1209    0]\n",
      " [  34  150]]\n"
     ]
    }
   ],
   "source": [
    "#Support Vector Machines \n",
    "model= svm.SVC()\n",
    "model.fit(X_train,y_train)\n",
    "y_pred = model.predict(X_test)\n",
    "print(accuracy_score(y_test,y_pred))\n",
    "print(confusion_matrix(y_test,y_pred))"
   ]
  },
  {
   "cell_type": "code",
   "execution_count": 57,
   "metadata": {},
   "outputs": [
    {
     "name": "stdout",
     "output_type": "stream",
     "text": [
      "0.9877961234745154\n",
      "[[1201    8]\n",
      " [   9  175]]\n"
     ]
    }
   ],
   "source": [
    "# Naive Bayes\n",
    "model = MultinomialNB()\n",
    "model.fit(X_train,y_train)\n",
    "y_pred = model.predict(X_test)\n",
    "print(accuracy_score(y_test,y_pred))\n",
    "print(confusion_matrix(y_test,y_pred))"
   ]
  },
  {
   "cell_type": "markdown",
   "metadata": {},
   "source": [
    "### b. Term Frequency-Inverse Document Frequency (TF-IDF)"
   ]
  },
  {
   "cell_type": "markdown",
   "metadata": {},
   "source": [
    "CountVectorizer focuses purely on the count of the words in each document.\n",
    "TfidfVectorizer gives more importance to words that are unique or less frequent across the corpus by adjusting the word count using the inverse document frequency."
   ]
  },
  {
   "cell_type": "code",
   "execution_count": 59,
   "metadata": {},
   "outputs": [],
   "source": [
    "X_tfidf = TfidfVectorizer().fit_transform(X)\n",
    "\n",
    "\n",
    "X_train_tfidf, X_test_tfidf, y_train_tfidf, y_test_tfidf = train_test_split(X_tfidf, y)"
   ]
  },
  {
   "cell_type": "code",
   "execution_count": 60,
   "metadata": {},
   "outputs": [
    {
     "name": "stdout",
     "output_type": "stream",
     "text": [
      "0.9619526202440776\n",
      "[[1193    3]\n",
      " [  50  147]]\n"
     ]
    }
   ],
   "source": [
    "model = linear_model.LogisticRegression()\n",
    "model.fit(X_train_tfidf,y_train_tfidf)\n",
    "y_pred_tfidf = model.predict(X_test_tfidf)\n",
    "print(accuracy_score(y_test_tfidf,y_pred_tfidf))\n",
    "print(confusion_matrix(y_test_tfidf,y_pred_tfidf))"
   ]
  },
  {
   "cell_type": "code",
   "execution_count": 61,
   "metadata": {},
   "outputs": [
    {
     "name": "stdout",
     "output_type": "stream",
     "text": [
      "0.8535534816941852\n",
      "[[1176   20]\n",
      " [ 184   13]]\n"
     ]
    }
   ],
   "source": [
    "model = ensemble.RandomForestClassifier()\n",
    "model.fit(X_train_tfidf,y_train)\n",
    "y_pred_tfidf = model.predict(X_test_tfidf)\n",
    "print(accuracy_score(y_test_tfidf,y_pred_tfidf))\n",
    "print(confusion_matrix(y_test_tfidf,y_pred_tfidf))"
   ]
  },
  {
   "cell_type": "code",
   "execution_count": 62,
   "metadata": {},
   "outputs": [
    {
     "name": "stdout",
     "output_type": "stream",
     "text": [
      "0.8557071069633884\n",
      "[[1192    4]\n",
      " [ 197    0]]\n"
     ]
    }
   ],
   "source": [
    "model = svm.SVC()\n",
    "model.fit(X_train_tfidf,y_train)\n",
    "y_pred_tfidf = model.predict(X_test_tfidf)\n",
    "print(accuracy_score(y_test_tfidf,y_pred_tfidf))\n",
    "print(confusion_matrix(y_test_tfidf,y_pred_tfidf))"
   ]
  },
  {
   "cell_type": "code",
   "execution_count": 63,
   "metadata": {},
   "outputs": [
    {
     "name": "stdout",
     "output_type": "stream",
     "text": [
      "0.9605168700646087\n",
      "[[1196    0]\n",
      " [  55  142]]\n"
     ]
    }
   ],
   "source": [
    "model = MultinomialNB()\n",
    "model.fit(X_train_tfidf, y_train_tfidf)\n",
    "y_pred_tfidf = model.predict(X_test_tfidf)\n",
    "print(accuracy_score(y_test_tfidf, y_pred_tfidf))\n",
    "print(confusion_matrix(y_test_tfidf,y_pred_tfidf))"
   ]
  },
  {
   "cell_type": "markdown",
   "metadata": {},
   "source": [
    "## c. Sentence Transformer\n"
   ]
  },
  {
   "cell_type": "markdown",
   "metadata": {},
   "source": [
    "### BERT\n",
    "\n"
   ]
  },
  {
   "cell_type": "code",
   "execution_count": 64,
   "metadata": {},
   "outputs": [
    {
     "name": "stderr",
     "output_type": "stream",
     "text": [
      "/Users/shanelim/opt/anaconda3/lib/python3.9/site-packages/transformers/tokenization_utils_base.py:1601: FutureWarning: `clean_up_tokenization_spaces` was not set. It will be set to `True` by default. This behavior will be depracted in transformers v4.45, and will be then set to `False` by default. For more details check this issue: https://github.com/huggingface/transformers/issues/31884\n",
      "  warnings.warn(\n"
     ]
    }
   ],
   "source": [
    "model = sentence_transformers.SentenceTransformer('bert-base-nli-mean-tokens')\n",
    "\n",
    "#bert-base: This refers to the size of the BERT model being used. \"Base\" means that the model has 12 transformer layers, 768 hidden dimensions, and 12 attention heads. It's a smaller variant of BERT (as compared to \"large\" models).\n",
    "#nli: This refers to the fact that the model has been fine-tuned on a Natural Language Inference (NLI) task, where it learned to predict the relationships between pairs of sentences (whether one entails the other, contradicts, or is neutral).\n",
    "#mean-tokens: This indicates the pooling strategy used to generate the sentence embeddings. In this case, it uses mean pooling of the tokens' embeddings in a sentence. That means the embeddings of all tokens in the sentence are averaged to create a single vector (embedding) representing the entire sentence."
   ]
  },
  {
   "cell_type": "code",
   "execution_count": 65,
   "metadata": {},
   "outputs": [],
   "source": [
    "# Convert pandas Series to a list before passing it to the BERT model\n",
    "X_bert = model.encode(X)  # .tolist() converts the Series to a list\n"
   ]
  },
  {
   "cell_type": "code",
   "execution_count": 66,
   "metadata": {},
   "outputs": [],
   "source": [
    "X_train, X_test, y_train, y_test = train_test_split(X_bert, y)"
   ]
  },
  {
   "cell_type": "code",
   "execution_count": 67,
   "metadata": {},
   "outputs": [
    {
     "name": "stdout",
     "output_type": "stream",
     "text": [
      "0.9849246231155779\n",
      "[[1181    1]\n",
      " [  20  191]]\n"
     ]
    },
    {
     "name": "stderr",
     "output_type": "stream",
     "text": [
      "/Users/shanelim/opt/anaconda3/lib/python3.9/site-packages/sklearn/linear_model/_logistic.py:763: ConvergenceWarning: lbfgs failed to converge (status=1):\n",
      "STOP: TOTAL NO. of ITERATIONS REACHED LIMIT.\n",
      "\n",
      "Increase the number of iterations (max_iter) or scale the data as shown in:\n",
      "    https://scikit-learn.org/stable/modules/preprocessing.html\n",
      "Please also refer to the documentation for alternative solver options:\n",
      "    https://scikit-learn.org/stable/modules/linear_model.html#logistic-regression\n",
      "  n_iter_i = _check_optimize_result(\n"
     ]
    }
   ],
   "source": [
    "model = linear_model.LogisticRegression()\n",
    "model.fit(X_train,y_train)\n",
    "y_pred = model.predict(X_test)\n",
    "print(accuracy_score(y_test,y_pred))\n",
    "print(confusion_matrix(y_test,y_pred))"
   ]
  },
  {
   "cell_type": "code",
   "execution_count": 68,
   "metadata": {},
   "outputs": [
    {
     "name": "stdout",
     "output_type": "stream",
     "text": [
      "0.9691313711414213\n",
      "[[1182    0]\n",
      " [  43  168]]\n"
     ]
    }
   ],
   "source": [
    "model = ensemble.RandomForestClassifier()\n",
    "model.fit(X_train,y_train)\n",
    "y_pred = model.predict(X_test)\n",
    "print(accuracy_score(y_test,y_pred))\n",
    "print(confusion_matrix(y_test,y_pred))"
   ]
  },
  {
   "cell_type": "code",
   "execution_count": null,
   "metadata": {},
   "outputs": [],
   "source": [
    "model = svm.SVC()\n",
    "model.fit(X_train,y_train)\n",
    "y_pred = model.predict(X_test)\n",
    "print(accuracy_score(y_test,y_pred))\n",
    "print(confusion_matrix(y_test,y_pred))"
   ]
  },
  {
   "cell_type": "code",
   "execution_count": null,
   "metadata": {},
   "outputs": [],
   "source": [
    "model = svm.SVC()\n",
    "model.fit(X_train,y_train)\n",
    "y_pred = model.predict(X_test)\n",
    "print(accuracy_score(y_test,y_pred))\n",
    "print(confusion_matrix(y_test,y_pred))"
   ]
  },
  {
   "cell_type": "markdown",
   "metadata": {},
   "source": [
    "# 3. Print out evaluation results without saving to excel file\n",
    "\n",
    "####  Please run the code below which will iterate thorugh the different feature extraction methods (Count Vectorizer, TFIDF and BERT) and models () and print out the evaluation results for each model (Log Regession, SVM, Naive Bayes, Random Forest, GradientBoosting and KNN)"
   ]
  },
  {
   "cell_type": "markdown",
   "metadata": {},
   "source": [
    "### a. Count Vectorizer and TFIDF"
   ]
  },
  {
   "cell_type": "code",
   "execution_count": 51,
   "metadata": {},
   "outputs": [
    {
     "name": "stdout",
     "output_type": "stream",
     "text": [
      "Vectorizer: count_vectorizer\n",
      "Model: logistic_regression\n",
      "Accuracy: 0.9842\n",
      "Confusion Matrix:\n",
      "[[1207    0]\n",
      " [  22  164]]\n",
      "Classification Report:\n",
      "              precision    recall  f1-score   support\n",
      "\n",
      "         ham       0.98      1.00      0.99      1207\n",
      "        spam       1.00      0.88      0.94       186\n",
      "\n",
      "    accuracy                           0.98      1393\n",
      "   macro avg       0.99      0.94      0.96      1393\n",
      "weighted avg       0.98      0.98      0.98      1393\n",
      "\n",
      "--------------------------------------------------\n",
      "Vectorizer: count_vectorizer\n",
      "Model: svm\n",
      "Accuracy: 0.9785\n",
      "Confusion Matrix:\n",
      "[[1207    0]\n",
      " [  30  156]]\n",
      "Classification Report:\n",
      "              precision    recall  f1-score   support\n",
      "\n",
      "         ham       0.98      1.00      0.99      1207\n",
      "        spam       1.00      0.84      0.91       186\n",
      "\n",
      "    accuracy                           0.98      1393\n",
      "   macro avg       0.99      0.92      0.95      1393\n",
      "weighted avg       0.98      0.98      0.98      1393\n",
      "\n",
      "--------------------------------------------------\n",
      "Vectorizer: count_vectorizer\n",
      "Model: naive_bayes\n",
      "Accuracy: 0.9835\n",
      "Confusion Matrix:\n",
      "[[1193   14]\n",
      " [   9  177]]\n",
      "Classification Report:\n",
      "              precision    recall  f1-score   support\n",
      "\n",
      "         ham       0.99      0.99      0.99      1207\n",
      "        spam       0.93      0.95      0.94       186\n",
      "\n",
      "    accuracy                           0.98      1393\n",
      "   macro avg       0.96      0.97      0.96      1393\n",
      "weighted avg       0.98      0.98      0.98      1393\n",
      "\n",
      "--------------------------------------------------\n",
      "Vectorizer: count_vectorizer\n",
      "Model: random_forest\n",
      "Accuracy: 0.9770\n",
      "Confusion Matrix:\n",
      "[[1207    0]\n",
      " [  32  154]]\n",
      "Classification Report:\n",
      "              precision    recall  f1-score   support\n",
      "\n",
      "         ham       0.97      1.00      0.99      1207\n",
      "        spam       1.00      0.83      0.91       186\n",
      "\n",
      "    accuracy                           0.98      1393\n",
      "   macro avg       0.99      0.91      0.95      1393\n",
      "weighted avg       0.98      0.98      0.98      1393\n",
      "\n",
      "--------------------------------------------------\n",
      "Vectorizer: count_vectorizer\n",
      "Model: gradient_boosting\n",
      "Accuracy: 0.9756\n",
      "Confusion Matrix:\n",
      "[[1207    0]\n",
      " [  34  152]]\n",
      "Classification Report:\n",
      "              precision    recall  f1-score   support\n",
      "\n",
      "         ham       0.97      1.00      0.99      1207\n",
      "        spam       1.00      0.82      0.90       186\n",
      "\n",
      "    accuracy                           0.98      1393\n",
      "   macro avg       0.99      0.91      0.94      1393\n",
      "weighted avg       0.98      0.98      0.97      1393\n",
      "\n",
      "--------------------------------------------------\n",
      "Vectorizer: count_vectorizer\n",
      "Model: knn\n",
      "Accuracy: 0.9239\n",
      "Confusion Matrix:\n",
      "[[1207    0]\n",
      " [ 106   80]]\n",
      "Classification Report:\n",
      "              precision    recall  f1-score   support\n",
      "\n",
      "         ham       0.92      1.00      0.96      1207\n",
      "        spam       1.00      0.43      0.60       186\n",
      "\n",
      "    accuracy                           0.92      1393\n",
      "   macro avg       0.96      0.72      0.78      1393\n",
      "weighted avg       0.93      0.92      0.91      1393\n",
      "\n",
      "--------------------------------------------------\n",
      "Vectorizer: tfidf_vectorizer\n",
      "Model: logistic_regression\n",
      "Accuracy: 0.9634\n",
      "Confusion Matrix:\n",
      "[[1207    0]\n",
      " [  51  135]]\n",
      "Classification Report:\n",
      "              precision    recall  f1-score   support\n",
      "\n",
      "         ham       0.96      1.00      0.98      1207\n",
      "        spam       1.00      0.73      0.84       186\n",
      "\n",
      "    accuracy                           0.96      1393\n",
      "   macro avg       0.98      0.86      0.91      1393\n",
      "weighted avg       0.96      0.96      0.96      1393\n",
      "\n",
      "--------------------------------------------------\n",
      "Vectorizer: tfidf_vectorizer\n",
      "Model: svm\n",
      "Accuracy: 0.9799\n",
      "Confusion Matrix:\n",
      "[[1207    0]\n",
      " [  28  158]]\n",
      "Classification Report:\n",
      "              precision    recall  f1-score   support\n",
      "\n",
      "         ham       0.98      1.00      0.99      1207\n",
      "        spam       1.00      0.85      0.92       186\n",
      "\n",
      "    accuracy                           0.98      1393\n",
      "   macro avg       0.99      0.92      0.95      1393\n",
      "weighted avg       0.98      0.98      0.98      1393\n",
      "\n",
      "--------------------------------------------------\n",
      "Vectorizer: tfidf_vectorizer\n",
      "Model: naive_bayes\n",
      "Accuracy: 0.9641\n",
      "Confusion Matrix:\n",
      "[[1207    0]\n",
      " [  50  136]]\n",
      "Classification Report:\n",
      "              precision    recall  f1-score   support\n",
      "\n",
      "         ham       0.96      1.00      0.98      1207\n",
      "        spam       1.00      0.73      0.84       186\n",
      "\n",
      "    accuracy                           0.96      1393\n",
      "   macro avg       0.98      0.87      0.91      1393\n",
      "weighted avg       0.97      0.96      0.96      1393\n",
      "\n",
      "--------------------------------------------------\n",
      "Vectorizer: tfidf_vectorizer\n",
      "Model: random_forest\n",
      "Accuracy: 0.9770\n",
      "Confusion Matrix:\n",
      "[[1207    0]\n",
      " [  32  154]]\n",
      "Classification Report:\n",
      "              precision    recall  f1-score   support\n",
      "\n",
      "         ham       0.97      1.00      0.99      1207\n",
      "        spam       1.00      0.83      0.91       186\n",
      "\n",
      "    accuracy                           0.98      1393\n",
      "   macro avg       0.99      0.91      0.95      1393\n",
      "weighted avg       0.98      0.98      0.98      1393\n",
      "\n",
      "--------------------------------------------------\n",
      "Vectorizer: tfidf_vectorizer\n",
      "Model: gradient_boosting\n",
      "Accuracy: 0.9763\n",
      "Confusion Matrix:\n",
      "[[1204    3]\n",
      " [  30  156]]\n",
      "Classification Report:\n",
      "              precision    recall  f1-score   support\n",
      "\n",
      "         ham       0.98      1.00      0.99      1207\n",
      "        spam       0.98      0.84      0.90       186\n",
      "\n",
      "    accuracy                           0.98      1393\n",
      "   macro avg       0.98      0.92      0.95      1393\n",
      "weighted avg       0.98      0.98      0.98      1393\n",
      "\n",
      "--------------------------------------------------\n",
      "Vectorizer: tfidf_vectorizer\n",
      "Model: knn\n",
      "Accuracy: 0.9131\n",
      "Confusion Matrix:\n",
      "[[1207    0]\n",
      " [ 121   65]]\n",
      "Classification Report:\n",
      "              precision    recall  f1-score   support\n",
      "\n",
      "         ham       0.91      1.00      0.95      1207\n",
      "        spam       1.00      0.35      0.52       186\n",
      "\n",
      "    accuracy                           0.91      1393\n",
      "   macro avg       0.95      0.67      0.74      1393\n",
      "weighted avg       0.92      0.91      0.89      1393\n",
      "\n",
      "--------------------------------------------------\n"
     ]
    }
   ],
   "source": [
    "\n",
    "# Load your spam dataset\n",
    "df = pd.read_csv(\"/Users/shanelim/Desktop/Sem 3.1/BC3409/Final Assignment - Individual/Part 1/spam (Text).csv\")\n",
    "\n",
    "# Rename the columns if needed, ensure they're correct\n",
    "X = df['Message']  # The text messages\n",
    "y = df['Category']  # The target labels (spam/ham)\n",
    "\n",
    "# Convert target labels from text to numerical values for classification\n",
    "y = y.map({'ham': 0, 'spam': 1})  # Convert 'ham' to 0 and 'spam' to 1\n",
    "\n",
    "# Configuration for vectorizers and models\n",
    "config = {\n",
    "    \"vectorizers\": {\n",
    "        \"count_vectorizer\": CountVectorizer,\n",
    "        \"tfidf_vectorizer\": TfidfVectorizer\n",
    "    },\n",
    "    \"models\": {\n",
    "        \"logistic_regression\": linear_model.LogisticRegression,\n",
    "        \"svm\": svm.SVC,\n",
    "        \"naive_bayes\": naive_bayes.MultinomialNB,\n",
    "        \"random_forest\": ensemble.RandomForestClassifier,\n",
    "        \"gradient_boosting\": GradientBoostingClassifier,\n",
    "        \"knn\": KNeighborsClassifier\n",
    "    }\n",
    "}\n",
    "\n",
    "# Function to evaluate each combination of vectorizers and models\n",
    "def evaluate_models(X, y, config):\n",
    "    results = []\n",
    "    for vec_name, vectorizer_cls in config['vectorizers'].items():\n",
    "        vectorizer = vectorizer_cls()\n",
    "        X_vec = vectorizer.fit_transform(X)\n",
    "        X_train, X_test, y_train, y_test = train_test_split(X_vec, y, test_size=0.25, random_state=42)\n",
    "\n",
    "        for model_name, model_cls in config['models'].items():\n",
    "            model = model_cls()\n",
    "            model.fit(X_train, y_train)\n",
    "            y_pred = model.predict(X_test)\n",
    "            accuracy = accuracy_score(y_test, y_pred)\n",
    "            report = classification_report(y_test, y_pred, target_names=['ham', 'spam'])\n",
    "            conf_matrix = confusion_matrix(y_test, y_pred)\n",
    "\n",
    "            results.append({\n",
    "                \"vectorizer\": vec_name,\n",
    "                \"model\": model_name,\n",
    "                \"accuracy\": accuracy,\n",
    "                \"confusion_matrix\": conf_matrix,\n",
    "                \"classification_report\": report\n",
    "            })\n",
    "    return results\n",
    "\n",
    "# Run the evaluation\n",
    "evaluation_results = evaluate_models(X, y, config)\n",
    "\n",
    "# Print results\n",
    "for result in evaluation_results:\n",
    "    print(f\"Vectorizer: {result['vectorizer']}\")\n",
    "    print(f\"Model: {result['model']}\")\n",
    "    print(f\"Accuracy: {result['accuracy']:.4f}\")\n",
    "    print(\"Confusion Matrix:\")\n",
    "    print(result['confusion_matrix'])\n",
    "    print(\"Classification Report:\")\n",
    "    print(result['classification_report'])\n",
    "    print(\"-\" * 50)"
   ]
  },
  {
   "cell_type": "markdown",
   "metadata": {},
   "source": [
    "### b. BERT"
   ]
  },
  {
   "cell_type": "code",
   "execution_count": null,
   "metadata": {},
   "outputs": [],
   "source": [
    "# Convert pandas Series to a list before passing it to the BERT model\n",
    "X_bert = model.encode(X)  # .tolist() converts the Series to a list\n"
   ]
  },
  {
   "cell_type": "code",
   "execution_count": 71,
   "metadata": {},
   "outputs": [
    {
     "name": "stderr",
     "output_type": "stream",
     "text": [
      "/Users/shanelim/opt/anaconda3/lib/python3.9/site-packages/transformers/tokenization_utils_base.py:1601: FutureWarning: `clean_up_tokenization_spaces` was not set. It will be set to `True` by default. This behavior will be depracted in transformers v4.45, and will be then set to `False` by default. For more details check this issue: https://github.com/huggingface/transformers/issues/31884\n",
      "  warnings.warn(\n",
      "/Users/shanelim/opt/anaconda3/lib/python3.9/site-packages/sklearn/linear_model/_logistic.py:763: ConvergenceWarning: lbfgs failed to converge (status=1):\n",
      "STOP: TOTAL NO. of ITERATIONS REACHED LIMIT.\n",
      "\n",
      "Increase the number of iterations (max_iter) or scale the data as shown in:\n",
      "    https://scikit-learn.org/stable/modules/preprocessing.html\n",
      "Please also refer to the documentation for alternative solver options:\n",
      "    https://scikit-learn.org/stable/modules/linear_model.html#logistic-regression\n",
      "  n_iter_i = _check_optimize_result(\n"
     ]
    },
    {
     "name": "stdout",
     "output_type": "stream",
     "text": [
      "Model naive_bayes encountered an error: Negative values in data passed to MultinomialNB (input X)\n",
      "Model: logistic_regression\n",
      "Accuracy: 0.9907\n",
      "Confusion Matrix:\n",
      "[[1203    4]\n",
      " [   9  177]]\n",
      "Classification Report:\n",
      "              precision    recall  f1-score   support\n",
      "\n",
      "         ham       0.99      1.00      0.99      1207\n",
      "        spam       0.98      0.95      0.96       186\n",
      "\n",
      "    accuracy                           0.99      1393\n",
      "   macro avg       0.99      0.97      0.98      1393\n",
      "weighted avg       0.99      0.99      0.99      1393\n",
      "\n",
      "--------------------------------------------------\n",
      "Model: svm\n",
      "Accuracy: 0.9878\n",
      "Confusion Matrix:\n",
      "[[1206    1]\n",
      " [  16  170]]\n",
      "Classification Report:\n",
      "              precision    recall  f1-score   support\n",
      "\n",
      "         ham       0.99      1.00      0.99      1207\n",
      "        spam       0.99      0.91      0.95       186\n",
      "\n",
      "    accuracy                           0.99      1393\n",
      "   macro avg       0.99      0.96      0.97      1393\n",
      "weighted avg       0.99      0.99      0.99      1393\n",
      "\n",
      "--------------------------------------------------\n",
      "Model: random_forest\n",
      "Accuracy: 0.9713\n",
      "Confusion Matrix:\n",
      "[[1206    1]\n",
      " [  39  147]]\n",
      "Classification Report:\n",
      "              precision    recall  f1-score   support\n",
      "\n",
      "         ham       0.97      1.00      0.98      1207\n",
      "        spam       0.99      0.79      0.88       186\n",
      "\n",
      "    accuracy                           0.97      1393\n",
      "   macro avg       0.98      0.89      0.93      1393\n",
      "weighted avg       0.97      0.97      0.97      1393\n",
      "\n",
      "--------------------------------------------------\n",
      "Model: gradient_boosting\n",
      "Accuracy: 0.9727\n",
      "Confusion Matrix:\n",
      "[[1201    6]\n",
      " [  32  154]]\n",
      "Classification Report:\n",
      "              precision    recall  f1-score   support\n",
      "\n",
      "         ham       0.97      1.00      0.98      1207\n",
      "        spam       0.96      0.83      0.89       186\n",
      "\n",
      "    accuracy                           0.97      1393\n",
      "   macro avg       0.97      0.91      0.94      1393\n",
      "weighted avg       0.97      0.97      0.97      1393\n",
      "\n",
      "--------------------------------------------------\n",
      "Model: knn\n",
      "Accuracy: 0.9749\n",
      "Confusion Matrix:\n",
      "[[1184   23]\n",
      " [  12  174]]\n",
      "Classification Report:\n",
      "              precision    recall  f1-score   support\n",
      "\n",
      "         ham       0.99      0.98      0.99      1207\n",
      "        spam       0.88      0.94      0.91       186\n",
      "\n",
      "    accuracy                           0.97      1393\n",
      "   macro avg       0.94      0.96      0.95      1393\n",
      "weighted avg       0.98      0.97      0.98      1393\n",
      "\n",
      "--------------------------------------------------\n"
     ]
    }
   ],
   "source": [
    "df = pd.read_csv(\"/Users/shanelim/Desktop/Sem 3.1/BC3409/Final Assignment - Individual/Part 1/spam (Text).csv\")\n",
    "\n",
    "# Rename columns if needed\n",
    "X = df['Message']  # The text messages\n",
    "y = df['Category']  # The target labels (spam/ham)\n",
    "\n",
    "# Convert target labels from text to numerical values for classification\n",
    "y = y.map({'ham': 0, 'spam': 1})  # Convert 'ham' to 0 and 'spam' to 1\n",
    "\n",
    "# Load the sentence transformer model\n",
    "model = SentenceTransformer('bert-base-nli-mean-tokens')\n",
    "\n",
    "# Generate BERT sentence embeddings for each message\n",
    "X_embeddings = model.encode(X.tolist())\n",
    "\n",
    "# Configuration for models\n",
    "config = {\n",
    "    \"models\": {\n",
    "        \"logistic_regression\": linear_model.LogisticRegression,\n",
    "        \"svm\": svm.SVC,\n",
    "        \"naive_bayes\": naive_bayes.MultinomialNB,  # This model may not work well with embeddings\n",
    "        \"random_forest\": ensemble.RandomForestClassifier,\n",
    "        \"gradient_boosting\": GradientBoostingClassifier,\n",
    "        \"knn\": KNeighborsClassifier\n",
    "    }\n",
    "}\n",
    "\n",
    "# Function to evaluate models with BERT embeddings\n",
    "def evaluate_models_with_bert(X_embeddings, y, config):\n",
    "    X_train, X_test, y_train, y_test = train_test_split(X_embeddings, y, test_size=0.25, random_state=42)\n",
    "    results = []\n",
    "    for model_name, model_cls in config['models'].items():\n",
    "        try:\n",
    "            model = model_cls()\n",
    "            model.fit(X_train, y_train)\n",
    "            y_pred = model.predict(X_test)\n",
    "            accuracy = accuracy_score(y_test, y_pred)\n",
    "            report = classification_report(y_test, y_pred, target_names=['ham', 'spam'])\n",
    "            conf_matrix = confusion_matrix(y_test, y_pred)\n",
    "\n",
    "            results.append({\n",
    "                \"model\": model_name,\n",
    "                \"accuracy\": accuracy,\n",
    "                \"confusion_matrix\": conf_matrix,\n",
    "                \"classification_report\": report\n",
    "            })\n",
    "        except Exception as e:\n",
    "            print(f\"Model {model_name} encountered an error: {e}\")\n",
    "    return results\n",
    "\n",
    "# Run the evaluation\n",
    "evaluation_results_bert = evaluate_models_with_bert(X_embeddings, y, config)\n",
    "\n",
    "# Print results\n",
    "for result in evaluation_results_bert:\n",
    "    print(f\"Model: {result['model']}\")\n",
    "    print(f\"Accuracy: {result['accuracy']:.4f}\")\n",
    "    print(\"Confusion Matrix:\")\n",
    "    print(result['confusion_matrix'])\n",
    "    print(\"Classification Report:\")\n",
    "    print(result['classification_report'])\n",
    "    print(\"-\" * 50)"
   ]
  },
  {
   "cell_type": "markdown",
   "metadata": {},
   "source": [
    "### Print out Test F1 Score\n"
   ]
  },
  {
   "cell_type": "code",
   "execution_count": 43,
   "metadata": {},
   "outputs": [
    {
     "name": "stdout",
     "output_type": "stream",
     "text": [
      "Vectorizer: count_vectorizer\n",
      "Model: logistic_regression\n",
      "Training F1 Score: 0.9928\n",
      "Test F1 Score: 0.9371\n",
      "F1 Gap (Train-Test): 0.0557\n",
      "Confusion Matrix:\n",
      "[[1207    0]\n",
      " [  22  164]]\n",
      "Classification Report:\n",
      "              precision    recall  f1-score   support\n",
      "\n",
      "         ham       0.98      1.00      0.99      1207\n",
      "        spam       1.00      0.88      0.94       186\n",
      "\n",
      "    accuracy                           0.98      1393\n",
      "   macro avg       0.99      0.94      0.96      1393\n",
      "weighted avg       0.98      0.98      0.98      1393\n",
      "\n",
      "--------------------------------------------------\n",
      "Vectorizer: count_vectorizer\n",
      "Model: svm\n",
      "Training F1 Score: 0.9855\n",
      "Test F1 Score: 0.9123\n",
      "F1 Gap (Train-Test): 0.0733\n",
      "Confusion Matrix:\n",
      "[[1207    0]\n",
      " [  30  156]]\n",
      "Classification Report:\n",
      "              precision    recall  f1-score   support\n",
      "\n",
      "         ham       0.98      1.00      0.99      1207\n",
      "        spam       1.00      0.84      0.91       186\n",
      "\n",
      "    accuracy                           0.98      1393\n",
      "   macro avg       0.99      0.92      0.95      1393\n",
      "weighted avg       0.98      0.98      0.98      1393\n",
      "\n",
      "--------------------------------------------------\n",
      "Vectorizer: count_vectorizer\n",
      "Model: naive_bayes\n",
      "Training F1 Score: 0.9749\n",
      "Test F1 Score: 0.9390\n",
      "F1 Gap (Train-Test): 0.0359\n",
      "Confusion Matrix:\n",
      "[[1193   14]\n",
      " [   9  177]]\n",
      "Classification Report:\n",
      "              precision    recall  f1-score   support\n",
      "\n",
      "         ham       0.99      0.99      0.99      1207\n",
      "        spam       0.93      0.95      0.94       186\n",
      "\n",
      "    accuracy                           0.98      1393\n",
      "   macro avg       0.96      0.97      0.96      1393\n",
      "weighted avg       0.98      0.98      0.98      1393\n",
      "\n",
      "--------------------------------------------------\n",
      "Vectorizer: count_vectorizer\n",
      "Model: random_forest\n",
      "Training F1 Score: 1.0000\n",
      "Test F1 Score: 0.9123\n",
      "F1 Gap (Train-Test): 0.0877\n",
      "Confusion Matrix:\n",
      "[[1207    0]\n",
      " [  30  156]]\n",
      "Classification Report:\n",
      "              precision    recall  f1-score   support\n",
      "\n",
      "         ham       0.98      1.00      0.99      1207\n",
      "        spam       1.00      0.84      0.91       186\n",
      "\n",
      "    accuracy                           0.98      1393\n",
      "   macro avg       0.99      0.92      0.95      1393\n",
      "weighted avg       0.98      0.98      0.98      1393\n",
      "\n",
      "--------------------------------------------------\n",
      "Vectorizer: count_vectorizer\n",
      "Model: gradient_boosting\n",
      "Training F1 Score: 0.9358\n",
      "Test F1 Score: 0.9032\n",
      "F1 Gap (Train-Test): 0.0326\n",
      "Confusion Matrix:\n",
      "[[1206    1]\n",
      " [  32  154]]\n",
      "Classification Report:\n",
      "              precision    recall  f1-score   support\n",
      "\n",
      "         ham       0.97      1.00      0.99      1207\n",
      "        spam       0.99      0.83      0.90       186\n",
      "\n",
      "    accuracy                           0.98      1393\n",
      "   macro avg       0.98      0.91      0.94      1393\n",
      "weighted avg       0.98      0.98      0.98      1393\n",
      "\n",
      "--------------------------------------------------\n",
      "Vectorizer: count_vectorizer\n",
      "Model: knn\n",
      "Training F1 Score: 0.6400\n",
      "Test F1 Score: 0.6015\n",
      "F1 Gap (Train-Test): 0.0385\n",
      "Confusion Matrix:\n",
      "[[1207    0]\n",
      " [ 106   80]]\n",
      "Classification Report:\n",
      "              precision    recall  f1-score   support\n",
      "\n",
      "         ham       0.92      1.00      0.96      1207\n",
      "        spam       1.00      0.43      0.60       186\n",
      "\n",
      "    accuracy                           0.92      1393\n",
      "   macro avg       0.96      0.72      0.78      1393\n",
      "weighted avg       0.93      0.92      0.91      1393\n",
      "\n",
      "--------------------------------------------------\n",
      "Vectorizer: tfidf_vectorizer\n",
      "Model: logistic_regression\n",
      "Training F1 Score: 0.8917\n",
      "Test F1 Score: 0.8411\n",
      "F1 Gap (Train-Test): 0.0506\n",
      "Confusion Matrix:\n",
      "[[1207    0]\n",
      " [  51  135]]\n",
      "Classification Report:\n",
      "              precision    recall  f1-score   support\n",
      "\n",
      "         ham       0.96      1.00      0.98      1207\n",
      "        spam       1.00      0.73      0.84       186\n",
      "\n",
      "    accuracy                           0.96      1393\n",
      "   macro avg       0.98      0.86      0.91      1393\n",
      "weighted avg       0.96      0.96      0.96      1393\n",
      "\n",
      "--------------------------------------------------\n",
      "Vectorizer: tfidf_vectorizer\n",
      "Model: svm\n",
      "Training F1 Score: 0.9928\n",
      "Test F1 Score: 0.9186\n",
      "F1 Gap (Train-Test): 0.0742\n",
      "Confusion Matrix:\n",
      "[[1207    0]\n",
      " [  28  158]]\n",
      "Classification Report:\n",
      "              precision    recall  f1-score   support\n",
      "\n",
      "         ham       0.98      1.00      0.99      1207\n",
      "        spam       1.00      0.85      0.92       186\n",
      "\n",
      "    accuracy                           0.98      1393\n",
      "   macro avg       0.99      0.92      0.95      1393\n",
      "weighted avg       0.98      0.98      0.98      1393\n",
      "\n",
      "--------------------------------------------------\n",
      "Vectorizer: tfidf_vectorizer\n",
      "Model: naive_bayes\n",
      "Training F1 Score: 0.8609\n",
      "Test F1 Score: 0.8447\n",
      "F1 Gap (Train-Test): 0.0162\n",
      "Confusion Matrix:\n",
      "[[1207    0]\n",
      " [  50  136]]\n",
      "Classification Report:\n",
      "              precision    recall  f1-score   support\n",
      "\n",
      "         ham       0.96      1.00      0.98      1207\n",
      "        spam       1.00      0.73      0.84       186\n",
      "\n",
      "    accuracy                           0.96      1393\n",
      "   macro avg       0.98      0.87      0.91      1393\n",
      "weighted avg       0.97      0.96      0.96      1393\n",
      "\n",
      "--------------------------------------------------\n",
      "Vectorizer: tfidf_vectorizer\n",
      "Model: random_forest\n",
      "Training F1 Score: 1.0000\n",
      "Test F1 Score: 0.9059\n",
      "F1 Gap (Train-Test): 0.0941\n",
      "Confusion Matrix:\n",
      "[[1207    0]\n",
      " [  32  154]]\n",
      "Classification Report:\n",
      "              precision    recall  f1-score   support\n",
      "\n",
      "         ham       0.97      1.00      0.99      1207\n",
      "        spam       1.00      0.83      0.91       186\n",
      "\n",
      "    accuracy                           0.98      1393\n",
      "   macro avg       0.99      0.91      0.95      1393\n",
      "weighted avg       0.98      0.98      0.98      1393\n",
      "\n",
      "--------------------------------------------------\n",
      "Vectorizer: tfidf_vectorizer\n",
      "Model: gradient_boosting\n",
      "Training F1 Score: 0.9342\n",
      "Test F1 Score: 0.9043\n",
      "F1 Gap (Train-Test): 0.0299\n",
      "Confusion Matrix:\n",
      "[[1204    3]\n",
      " [  30  156]]\n",
      "Classification Report:\n",
      "              precision    recall  f1-score   support\n",
      "\n",
      "         ham       0.98      1.00      0.99      1207\n",
      "        spam       0.98      0.84      0.90       186\n",
      "\n",
      "    accuracy                           0.98      1393\n",
      "   macro avg       0.98      0.92      0.95      1393\n",
      "weighted avg       0.98      0.98      0.98      1393\n",
      "\n",
      "--------------------------------------------------\n",
      "Vectorizer: tfidf_vectorizer\n",
      "Model: knn\n",
      "Training F1 Score: 0.5707\n",
      "Test F1 Score: 0.5179\n",
      "F1 Gap (Train-Test): 0.0528\n",
      "Confusion Matrix:\n",
      "[[1207    0]\n",
      " [ 121   65]]\n",
      "Classification Report:\n",
      "              precision    recall  f1-score   support\n",
      "\n",
      "         ham       0.91      1.00      0.95      1207\n",
      "        spam       1.00      0.35      0.52       186\n",
      "\n",
      "    accuracy                           0.91      1393\n",
      "   macro avg       0.95      0.67      0.74      1393\n",
      "weighted avg       0.92      0.91      0.89      1393\n",
      "\n",
      "--------------------------------------------------\n"
     ]
    }
   ],
   "source": [
    "from sklearn.metrics import f1_score\n",
    "\n",
    "def evaluate_models(X, y, config):\n",
    "    results = []\n",
    "    for vec_name, vectorizer_cls in config['vectorizers'].items():\n",
    "        vectorizer = vectorizer_cls()\n",
    "        X_vec = vectorizer.fit_transform(X)\n",
    "        X_train, X_test, y_train, y_test = train_test_split(X_vec, y, test_size=0.25, random_state=42)\n",
    "\n",
    "        for model_name, model_cls in config['models'].items():\n",
    "            model = model_cls()\n",
    "            model.fit(X_train, y_train)\n",
    "            \n",
    "            # Predictions on the training and test sets\n",
    "            y_train_pred = model.predict(X_train)\n",
    "            y_test_pred = model.predict(X_test)\n",
    "            \n",
    "            # Calculate F1 score for training and test sets\n",
    "            train_f1 = f1_score(y_train, y_train_pred)\n",
    "            test_f1 = f1_score(y_test, y_test_pred)\n",
    "            \n",
    "            # Generate classification report and confusion matrix for test set\n",
    "            test_report = classification_report(y_test, y_test_pred, target_names=['ham', 'spam'])\n",
    "            test_conf_matrix = confusion_matrix(y_test, y_test_pred)\n",
    "\n",
    "            # Performance gap between training and test F1 scores\n",
    "            f1_gap = train_f1 - test_f1  # Large gap indicates potential overfitting\n",
    "            \n",
    "            results.append({\n",
    "                \"vectorizer\": vec_name,\n",
    "                \"model\": model_name,\n",
    "                \"train_f1\": train_f1,\n",
    "                \"test_f1\": test_f1,\n",
    "                \"f1_gap\": f1_gap,\n",
    "                \"confusion_matrix\": test_conf_matrix,\n",
    "                \"classification_report\": test_report\n",
    "            })\n",
    "    return results\n",
    "\n",
    "# Run the evaluation\n",
    "evaluation_results = evaluate_models(X, y, config)\n",
    "\n",
    "# Print results with F1 score analysis\n",
    "for result in evaluation_results:\n",
    "    print(f\"Vectorizer: {result['vectorizer']}\")\n",
    "    print(f\"Model: {result['model']}\")\n",
    "    print(f\"Training F1 Score: {result['train_f1']:.4f}\")\n",
    "    print(f\"Test F1 Score: {result['test_f1']:.4f}\")\n",
    "    print(f\"F1 Gap (Train-Test): {result['f1_gap']:.4f}\")\n",
    "    print(\"Confusion Matrix:\")\n",
    "    print(result['confusion_matrix'])\n",
    "    print(\"Classification Report:\")\n",
    "    print(result['classification_report'])\n",
    "    print(\"-\" * 50)\n"
   ]
  },
  {
   "cell_type": "markdown",
   "metadata": {},
   "source": [
    "## 4. Code to generate Excel table to compare results"
   ]
  },
  {
   "cell_type": "markdown",
   "metadata": {},
   "source": [
    "## a. Code to generate Excel table to compare results for CountVectorizer and TFIDF only"
   ]
  },
  {
   "cell_type": "markdown",
   "metadata": {},
   "source": [
    "Please change \"output_path\" below"
   ]
  },
  {
   "cell_type": "code",
   "execution_count": null,
   "metadata": {},
   "outputs": [],
   "source": [
    "# Load your spam dataset\n",
    "df = pd.read_csv(\"/Users/shanelim/Desktop/Sem 3.1/BC3409/Final Assignment - Individual/Part 1/spam (Text).csv\")\n",
    "\n",
    "# Rename the columns if needed, ensure they're correct\n",
    "X = df['Message']  # The text messages\n",
    "y = df['Category']  # The target labels (spam/ham)\n",
    "\n",
    "# Convert target labels from text to numerical values for classification\n",
    "y = y.map({'ham': 0, 'spam': 1})  # Convert 'ham' to 0 and 'spam' to 1\n",
    "\n",
    "# Configuration for vectorizers and models\n",
    "config = {\n",
    "    \"vectorizers\": {\n",
    "        \"count_vectorizer\": CountVectorizer,\n",
    "        \"tfidf_vectorizer\": TfidfVectorizer,\n",
    "    },\n",
    "    \"models\": {\n",
    "        \"logistic_regression\": linear_model.LogisticRegression,\n",
    "        \"svm\": svm.SVC,\n",
    "        \"naive_bayes\": naive_bayes.MultinomialNB,\n",
    "        \"random_forest\": ensemble.RandomForestClassifier,\n",
    "        \"gradient_boosting\": GradientBoostingClassifier,\n",
    "        \"knn\": KNeighborsClassifier\n",
    "    }\n",
    "}\n",
    "\n",
    "# BERT model instance outside the loop\n",
    "bert_model = SentenceTransformer('bert-base-nli-mean-tokens')\n",
    "\n",
    "# Function to evaluate each combination of vectorizers and models\n",
    "def evaluate_models(X, y, config):\n",
    "    results = []\n",
    "    plt.figure(figsize=(10, 8))  # For ROC curves\n",
    "\n",
    "    for vec_name, vectorizer_cls in config['vectorizers'].items():\n",
    "        vectorizer = vectorizer_cls()\n",
    "        X_vec = vectorizer.fit_transform(X)\n",
    "        X_train, X_test, y_train, y_test = train_test_split(X_vec, y, test_size=0.25, random_state=42)\n",
    "\n",
    "        for model_name, model_cls in config['models'].items():\n",
    "            model = model_cls()\n",
    "            model.fit(X_train, y_train)\n",
    "            y_pred = model.predict(X_test)\n",
    "            y_pred_prob = model.predict_proba(X_test)[:, 1] if hasattr(model, \"predict_proba\") else model.decision_function(X_test)\n",
    "\n",
    "            # Calculate ROC and AUC\n",
    "            fpr, tpr, _ = roc_curve(y_test, y_pred_prob)\n",
    "            auc_score = roc_auc_score(y_test, y_pred_prob)\n",
    "\n",
    "            # Add results to the list\n",
    "            results.append({\n",
    "                \"vectorizer\": vec_name,\n",
    "                \"model\": model_name,\n",
    "                \"accuracy\": accuracy_score(y_test, y_pred),\n",
    "                \"precision\": precision_score(y_test, y_pred),\n",
    "                \"recall\": recall_score(y_test, y_pred),\n",
    "                \"f1_score\": f1_score(y_test, y_pred),\n",
    "                \"roc_auc\": auc_score,\n",
    "                \"confusion_matrix\": confusion_matrix(y_test, y_pred)\n",
    "            })\n",
    "\n",
    "            # Plot ROC curve\n",
    "            plt.plot(fpr, tpr, label=f'{vec_name} + {model_name} (AUC = {auc_score:.2f})')\n",
    "\n",
    "\n",
    "    # Plot formatting\n",
    "    plt.plot([0, 1], [0, 1], color='navy', linestyle='--')\n",
    "    plt.xlabel('False Positive Rate')\n",
    "    plt.ylabel('True Positive Rate')\n",
    "    plt.title('Receiver Operating Characteristic (ROC) Curve')\n",
    "    plt.legend(loc=\"lower right\")\n",
    "    plt.show()\n",
    "\n",
    "    return pd.DataFrame(results)\n",
    "\n",
    "\n",
    "# Run the evaluation\n",
    "evaluation_df = evaluate_models(X, y, config)\n",
    "\n",
    "# Save the results to an Excel file using xlsxwriter instead of openpyxl\n",
    "output_path = '/Users/shanelim/Desktop/Sem 3.1/BC3409/Final Assignment - Individual/evaluation_comparison_output.xlsx'\n",
    "evaluation_df.to_excel(output_path, index=False, engine='xlsxwriter')\n",
    "\n",
    "# Print the path to the Excel file\n",
    "print(f\"Results have been saved to {output_path}\")\n"
   ]
  },
  {
   "cell_type": "markdown",
   "metadata": {},
   "source": [
    "## b. Code to generate Excel table to compare results for BERT"
   ]
  },
  {
   "cell_type": "markdown",
   "metadata": {},
   "source": [
    "Please change \"output_path\" variable below"
   ]
  },
  {
   "cell_type": "code",
   "execution_count": 36,
   "metadata": {},
   "outputs": [
    {
     "name": "stderr",
     "output_type": "stream",
     "text": [
      "/Users/shanelim/opt/anaconda3/lib/python3.9/site-packages/transformers/tokenization_utils_base.py:1601: FutureWarning: `clean_up_tokenization_spaces` was not set. It will be set to `True` by default. This behavior will be depracted in transformers v4.45, and will be then set to `False` by default. For more details check this issue: https://github.com/huggingface/transformers/issues/31884\n",
      "  warnings.warn(\n"
     ]
    },
    {
     "name": "stdout",
     "output_type": "stream",
     "text": [
      "Evaluating BERT...\n"
     ]
    },
    {
     "name": "stderr",
     "output_type": "stream",
     "text": [
      "/Users/shanelim/opt/anaconda3/lib/python3.9/site-packages/sklearn/linear_model/_logistic.py:763: ConvergenceWarning: lbfgs failed to converge (status=1):\n",
      "STOP: TOTAL NO. of ITERATIONS REACHED LIMIT.\n",
      "\n",
      "Increase the number of iterations (max_iter) or scale the data as shown in:\n",
      "    https://scikit-learn.org/stable/modules/preprocessing.html\n",
      "Please also refer to the documentation for alternative solver options:\n",
      "    https://scikit-learn.org/stable/modules/linear_model.html#logistic-regression\n",
      "  n_iter_i = _check_optimize_result(\n"
     ]
    },
    {
     "data": {
      "image/png": "[encoded data removed]",
      "text/plain": [
       "<Figure size 432x288 with 1 Axes>"
      ]
     },
     "metadata": {
      "needs_background": "light"
     },
     "output_type": "display_data"
    },
    {
     "name": "stdout",
     "output_type": "stream",
     "text": [
      "Results have been saved to /Users/shanelim/Desktop/Sem 3.1/BC3409/Final Assignment - Individual/BERT_evaluation_comparison_output.xlsx\n"
     ]
    }
   ],
   "source": [
    "X = df['Message']  # The text messages\n",
    "y = df['Category']  # The target labels (spam/ham)\n",
    "\n",
    "# Convert target labels from text to numerical values for classification\n",
    "y = y.map({'ham': 0, 'spam': 1})  # Convert 'ham' to 0 and 'spam' to 1\n",
    "\n",
    "# Initialize BERT model\n",
    "bert_model = SentenceTransformer('bert-base-nli-mean-tokens')\n",
    "\n",
    "# Encode messages using BERT embeddings\n",
    "print(\"Evaluating BERT...\")\n",
    "X_bert = bert_model.encode(X.to_list(), batch_size=16)  # Convert text to embeddings\n",
    "X_train_bert, X_test_bert, y_train, y_test = train_test_split(X_bert, y, test_size=0.25, random_state=42)\n",
    "\n",
    "# Define models (as per your config)\n",
    "from sklearn import linear_model, svm, naive_bayes, ensemble\n",
    "\n",
    "config = {\n",
    "    \"models\": {\n",
    "        \"logistic_regression\": linear_model.LogisticRegression,\n",
    "        \"svm\": svm.SVC,\n",
    "        \"naive_bayes\": naive_bayes.GaussianNB,  # Use GaussianNB instead of MultinomialNB for BERT\n",
    "        \"random_forest\": ensemble.RandomForestClassifier,\n",
    "        \"gradient_boosting\": GradientBoostingClassifier,\n",
    "        \"knn\": KNeighborsClassifier\n",
    "    }\n",
    "}\n",
    "\n",
    "# To store results\n",
    "results = []\n",
    "\n",
    "# Loop through the models and evaluate\n",
    "for model_name, model_cls in config['models'].items():\n",
    "    model = model_cls()\n",
    "    model.fit(X_train_bert, y_train)\n",
    "    y_pred = model.predict(X_test_bert)\n",
    "    \n",
    "    # Handle probability prediction for models that support it\n",
    "    y_pred_prob = model.predict_proba(X_test_bert)[:, 1] if hasattr(model, \"predict_proba\") else model.decision_function(X_test_bert)\n",
    "\n",
    "    # Calculate evaluation metrics\n",
    "    accuracy = accuracy_score(y_test, y_pred)\n",
    "    precision = precision_score(y_test, y_pred)\n",
    "    recall = recall_score(y_test, y_pred)\n",
    "    f1 = f1_score(y_test, y_pred)\n",
    "    auc_score = roc_auc_score(y_test, y_pred_prob)\n",
    "    conf_matrix = confusion_matrix(y_test, y_pred)\n",
    "\n",
    "    # Store results for this model\n",
    "    results.append({\n",
    "        \"model\": model_name,\n",
    "        \"accuracy\": accuracy,\n",
    "        \"precision\": precision,\n",
    "        \"recall\": recall,\n",
    "        \"f1_score\": f1,\n",
    "        \"roc_auc\": auc_score,\n",
    "        \"confusion_matrix\": conf_matrix\n",
    "    })\n",
    "\n",
    "    # Calculate ROC curve\n",
    "    fpr, tpr, _ = roc_curve(y_test, y_pred_prob)\n",
    "    plt.plot(fpr, tpr, label=f'BERT + {model_name} (AUC = {auc_score:.2f})')\n",
    "\n",
    "# Plot ROC curve\n",
    "plt.plot([0, 1], [0, 1], color='navy', linestyle='--')\n",
    "plt.xlabel('False Positive Rate')\n",
    "plt.ylabel('True Positive Rate')\n",
    "plt.title('Receiver Operating Characteristic (ROC) Curve')\n",
    "plt.legend(loc=\"lower right\")\n",
    "plt.show()\n",
    "\n",
    "# Convert results to a DataFrame\n",
    "evaluation_df = pd.DataFrame(results)\n",
    "\n",
    "# Save the results to an Excel file using xlsxwriter\n",
    "output_path = '/Users/shanelim/Desktop/Sem 3.1/BC3409/Final Assignment - Individual/BERT_evaluation_comparison_output.xlsx'\n",
    "evaluation_df.to_excel(output_path, index=False, engine='xlsxwriter')\n",
    "\n",
    "# Print the path to the Excel file\n",
    "print(f\"Results have been saved to {output_path}\")"
   ]
  },
  {
   "cell_type": "markdown",
   "metadata": {},
   "source": [
    "# Seperate Vectorizer into TFIDF and Count Vectorizer (Used to generate ROC only)\n",
    " "
   ]
  },
  {
   "cell_type": "markdown",
   "metadata": {},
   "source": [
    "#### TFIDF"
   ]
  },
  {
   "cell_type": "code",
   "execution_count": 50,
   "metadata": {},
   "outputs": [
    {
     "name": "stderr",
     "output_type": "stream",
     "text": [
      "/Users/shanelim/opt/anaconda3/lib/python3.9/site-packages/transformers/tokenization_utils_base.py:1601: FutureWarning: `clean_up_tokenization_spaces` was not set. It will be set to `True` by default. This behavior will be depracted in transformers v4.45, and will be then set to `False` by default. For more details check this issue: https://github.com/huggingface/transformers/issues/31884\n",
      "  warnings.warn(\n"
     ]
    },
    {
     "data": {
      "image/png": "[encoded data removed]",
      "text/plain": [
       "<Figure size 720x576 with 1 Axes>"
      ]
     },
     "metadata": {
      "needs_background": "light"
     },
     "output_type": "display_data"
    },
    {
     "name": "stdout",
     "output_type": "stream",
     "text": [
      "Results have been saved to /Users/shanelim/Desktop/Sem 3.1/BC3409/Final Assignment - Individual/evaluation_comparison_output.xlsx\n"
     ]
    }
   ],
   "source": [
    "# Load your spam dataset\n",
    "df = pd.read_csv(\"/Users/shanelim/Desktop/Sem 3.1/BC3409/Final Assignment - Individual/Part 1/spam (Text).csv\")\n",
    "\n",
    "# Rename the columns if needed, ensure they're correct\n",
    "X = df['Message']  # The text messages\n",
    "y = df['Category']  # The target labels (spam/ham)\n",
    "\n",
    "# Convert target labels from text to numerical values for classification\n",
    "y = y.map({'ham': 0, 'spam': 1})  # Convert 'ham' to 0 and 'spam' to 1\n",
    "\n",
    "# Configuration for vectorizers and models\n",
    "config = {\n",
    "    \"vectorizers\": {\n",
    "        \"tfidf_vectorizer\": TfidfVectorizer,\n",
    "    },\n",
    "    \"models\": {\n",
    "        \"logistic_regression\": linear_model.LogisticRegression,\n",
    "        \"svm\": svm.SVC,\n",
    "        \"naive_bayes\": naive_bayes.MultinomialNB,\n",
    "        \"random_forest\": ensemble.RandomForestClassifier,\n",
    "        \"gradient_boosting\": GradientBoostingClassifier,\n",
    "        \"knn\": KNeighborsClassifier\n",
    "    }\n",
    "}\n",
    "\n",
    "# BERT model instance outside the loop\n",
    "bert_model = SentenceTransformer('bert-base-nli-mean-tokens')\n",
    "\n",
    "# Function to evaluate each combination of vectorizers and models\n",
    "def evaluate_models(X, y, config):\n",
    "    results = []\n",
    "    plt.figure(figsize=(10, 8))  # For ROC curves\n",
    "\n",
    "    for vec_name, vectorizer_cls in config['vectorizers'].items():\n",
    "        vectorizer = vectorizer_cls()\n",
    "        X_vec = vectorizer.fit_transform(X)\n",
    "        X_train, X_test, y_train, y_test = train_test_split(X_vec, y, test_size=0.25, random_state=42)\n",
    "\n",
    "        for model_name, model_cls in config['models'].items():\n",
    "            model = model_cls()\n",
    "            model.fit(X_train, y_train)\n",
    "            y_pred = model.predict(X_test)\n",
    "            y_pred_prob = model.predict_proba(X_test)[:, 1] if hasattr(model, \"predict_proba\") else model.decision_function(X_test)\n",
    "\n",
    "            # Calculate ROC and AUC\n",
    "            fpr, tpr, _ = roc_curve(y_test, y_pred_prob)\n",
    "            auc_score = roc_auc_score(y_test, y_pred_prob)\n",
    "\n",
    "            # Add results to the list\n",
    "            results.append({\n",
    "                \"vectorizer\": vec_name,\n",
    "                \"model\": model_name,\n",
    "                \"accuracy\": accuracy_score(y_test, y_pred),\n",
    "                \"precision\": precision_score(y_test, y_pred),\n",
    "                \"recall\": recall_score(y_test, y_pred),\n",
    "                \"f1_score\": f1_score(y_test, y_pred),\n",
    "                \"roc_auc\": auc_score,\n",
    "                \"confusion_matrix\": confusion_matrix(y_test, y_pred)\n",
    "            })\n",
    "\n",
    "            # Plot ROC curve\n",
    "            plt.plot(fpr, tpr, label=f'{vec_name} + {model_name} (AUC = {auc_score:.2f})')\n",
    "\n",
    "\n",
    "    # Plot formatting\n",
    "    plt.plot([0, 1], [0, 1], color='navy', linestyle='--')\n",
    "    plt.xlabel('False Positive Rate')\n",
    "    plt.ylabel('True Positive Rate')\n",
    "    plt.title('Receiver Operating Characteristic (ROC) Curve')\n",
    "    plt.legend(loc=\"lower right\")\n",
    "    plt.show()\n",
    "\n",
    "    return pd.DataFrame(results)\n",
    "\n",
    "\n",
    "# Run the evaluation\n",
    "evaluation_df = evaluate_models(X, y, config)\n",
    "\n",
    "# Save the results to an Excel file using xlsxwriter instead of openpyxl\n",
    "#output_path = '/Users/shanelim/Desktop/Sem 3.1/BC3409/Final Assignment - Individual/evaluation_comparison_output.xlsx'\n",
    "evaluation_df.to_excel(output_path, index=False, engine='xlsxwriter')\n",
    "\n",
    "# Print the path to the Excel file\n",
    "print(f\"Results have been saved to {output_path}\")\n"
   ]
  },
  {
   "cell_type": "markdown",
   "metadata": {},
   "source": [
    "#### CountVectorizer"
   ]
  },
  {
   "cell_type": "code",
   "execution_count": 49,
   "metadata": {},
   "outputs": [
    {
     "name": "stderr",
     "output_type": "stream",
     "text": [
      "/Users/shanelim/opt/anaconda3/lib/python3.9/site-packages/transformers/tokenization_utils_base.py:1601: FutureWarning: `clean_up_tokenization_spaces` was not set. It will be set to `True` by default. This behavior will be depracted in transformers v4.45, and will be then set to `False` by default. For more details check this issue: https://github.com/huggingface/transformers/issues/31884\n",
      "  warnings.warn(\n"
     ]
    },
    {
     "data": {
      "image/png": "[encoded data removed]",
      "text/plain": [
       "<Figure size 720x576 with 1 Axes>"
      ]
     },
     "metadata": {
      "needs_background": "light"
     },
     "output_type": "display_data"
    },
    {
     "name": "stdout",
     "output_type": "stream",
     "text": [
      "Results have been saved to /Users/shanelim/Desktop/Sem 3.1/BC3409/Final Assignment - Individual/evaluation_comparison_output.xlsx\n"
     ]
    }
   ],
   "source": [
    "# Load your spam dataset\n",
    "df = pd.read_csv(\"/Users/shanelim/Desktop/Sem 3.1/BC3409/Final Assignment - Individual/Part 1/spam (Text).csv\")\n",
    "\n",
    "# Rename the columns if needed, ensure they're correct\n",
    "X = df['Message']  # The text messages\n",
    "y = df['Category']  # The target labels (spam/ham)\n",
    "\n",
    "# Convert target labels from text to numerical values for classification\n",
    "y = y.map({'ham': 0, 'spam': 1})  # Convert 'ham' to 0 and 'spam' to 1\n",
    "\n",
    "# Configuration for vectorizers and models\n",
    "config = {\n",
    "    \"vectorizers\": {\n",
    "        \"count_vectorizer\": CountVectorizer,\n",
    "    },\n",
    "    \"models\": {\n",
    "        \"logistic_regression\": linear_model.LogisticRegression,\n",
    "        \"svm\": svm.SVC,\n",
    "        \"naive_bayes\": naive_bayes.MultinomialNB,\n",
    "        \"random_forest\": ensemble.RandomForestClassifier,\n",
    "        \"gradient_boosting\": GradientBoostingClassifier,\n",
    "        \"knn\": KNeighborsClassifier\n",
    "    }\n",
    "}\n",
    "\n",
    "# BERT model instance outside the loop\n",
    "bert_model = SentenceTransformer('bert-base-nli-mean-tokens')\n",
    "\n",
    "# Function to evaluate each combination of vectorizers and models\n",
    "def evaluate_models(X, y, config):\n",
    "    results = []\n",
    "    plt.figure(figsize=(10, 8))  # For ROC curves\n",
    "\n",
    "    for vec_name, vectorizer_cls in config['vectorizers'].items():\n",
    "        vectorizer = vectorizer_cls()\n",
    "        X_vec = vectorizer.fit_transform(X)\n",
    "        X_train, X_test, y_train, y_test = train_test_split(X_vec, y, test_size=0.25, random_state=42)\n",
    "\n",
    "        for model_name, model_cls in config['models'].items():\n",
    "            model = model_cls()\n",
    "            model.fit(X_train, y_train)\n",
    "            y_pred = model.predict(X_test)\n",
    "            y_pred_prob = model.predict_proba(X_test)[:, 1] if hasattr(model, \"predict_proba\") else model.decision_function(X_test)\n",
    "\n",
    "            # Calculate ROC and AUC\n",
    "            fpr, tpr, _ = roc_curve(y_test, y_pred_prob)\n",
    "            auc_score = roc_auc_score(y_test, y_pred_prob)\n",
    "\n",
    "            # Add results to the list\n",
    "            results.append({\n",
    "                \"vectorizer\": vec_name,\n",
    "                \"model\": model_name,\n",
    "                \"accuracy\": accuracy_score(y_test, y_pred),\n",
    "                \"precision\": precision_score(y_test, y_pred),\n",
    "                \"recall\": recall_score(y_test, y_pred),\n",
    "                \"f1_score\": f1_score(y_test, y_pred),\n",
    "                \"roc_auc\": auc_score,\n",
    "                \"confusion_matrix\": confusion_matrix(y_test, y_pred)\n",
    "            })\n",
    "\n",
    "            # Plot ROC curve\n",
    "            plt.plot(fpr, tpr, label=f'{vec_name} + {model_name} (AUC = {auc_score:.2f})')\n",
    "\n",
    "\n",
    "    # Plot formatting\n",
    "    plt.plot([0, 1], [0, 1], color='navy', linestyle='--')\n",
    "    plt.xlabel('False Positive Rate')\n",
    "    plt.ylabel('True Positive Rate')\n",
    "    plt.title('Receiver Operating Characteristic (ROC) Curve')\n",
    "    plt.legend(loc=\"lower right\")\n",
    "    plt.show()\n",
    "\n",
    "    return pd.DataFrame(results)\n",
    "\n",
    "\n",
    "# Run the evaluation\n",
    "evaluation_df = evaluate_models(X, y, config)\n",
    "\n",
    "# Save the results to an Excel file using xlsxwriter instead of openpyxl\n",
    "output_path = '/Users/shanelim/Desktop/Sem 3.1/BC3409/Final Assignment - Individual/evaluation_comparison_output.xlsx'\n",
    "evaluation_df.to_excel(output_path, index=False, engine='xlsxwriter')\n",
    "\n",
    "# Print the path to the Excel file\n",
    "print(f\"Results have been saved to {output_path}\")\n"
   ]
  }
 ],
 "metadata": {
  "kernelspec": {
   "display_name": "Python 3",
   "language": "python",
   "name": "python3"
  },
  "language_info": {
   "codemirror_mode": {
    "name": "ipython",
    "version": 3
   },
   "file_extension": ".py",
   "mimetype": "text/x-python",
   "name": "python",
   "nbconvert_exporter": "python",
   "pygments_lexer": "ipython3",
   "version": "3.9.7"
  }
 },
 "nbformat": 4,
 "nbformat_minor": 2
}
